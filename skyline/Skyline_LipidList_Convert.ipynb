{
 "cells": [
  {
   "cell_type": "markdown",
   "metadata": {},
   "source": [
    "Convert LipidList.csv to a skyline transition list"
   ]
  },
  {
   "cell_type": "code",
   "execution_count": 1,
   "metadata": {},
   "outputs": [
    {
     "name": "stderr",
     "output_type": "stream",
     "text": [
      "\u001b[1m\u001b[34mINFO: Nothing to be done\n",
      "\u001b[0m\u001b[1m\u001b[34mINFO: METADATA is out-of-date — you may not have the latest version of DataFrames\n",
      "\u001b[0m\u001b[1m\u001b[34mINFO: Use `Pkg.update()` to get the latest versions of your packages\n",
      "\u001b[0m"
     ]
    }
   ],
   "source": [
    "Pkg.add(\"DataFrames\")\n",
    "using DataFrames;\n",
    "lipidlist = readtable(\"LipidList.csv\");"
   ]
  },
  {
   "cell_type": "markdown",
   "metadata": {},
   "source": [
    "Get some info about lipidlist"
   ]
  },
  {
   "cell_type": "code",
   "execution_count": 2,
   "metadata": {},
   "outputs": [
    {
     "name": "stdout",
     "output_type": "stream",
     "text": [
      "(1312,2)[:mz,:name]"
     ]
    },
    {
     "data": {
      "text/html": [
       "<table class=\"data-frame\"><thead><tr><th></th><th>mz</th><th>name</th></tr></thead><tbody><tr><th>1</th><td>256.2628</td><td>Palmitamide**IS</td></tr><tr><th>2</th><td>367.3359</td><td>cholesterol-loss of OH2</td></tr><tr><th>3</th><td>369.3514</td><td>cholesterol-loss of OH</td></tr><tr><th>4</th><td>372.3473</td><td>Cer(22:0)</td></tr><tr><th>5</th><td>396.2515</td><td>LysoPC-P(10:0)</td></tr><tr><th>6</th><td>398.2672</td><td>LysoPC-O(10:0)</td></tr></tbody></table>"
      ],
      "text/plain": [
       "6×2 DataFrames.DataFrame\n",
       "│ Row │ mz      │ name                      │\n",
       "├─────┼─────────┼───────────────────────────┤\n",
       "│ 1   │ 256.263 │ \"Palmitamide**IS\"         │\n",
       "│ 2   │ 367.336 │ \"cholesterol-loss of OH2\" │\n",
       "│ 3   │ 369.351 │ \"cholesterol-loss of OH\"  │\n",
       "│ 4   │ 372.347 │ \"Cer(22:0)\"               │\n",
       "│ 5   │ 396.252 │ \"LysoPC-P(10:0)\"          │\n",
       "│ 6   │ 398.267 │ \"LysoPC-O(10:0)\"          │"
      ]
     },
     "execution_count": 2,
     "metadata": {},
     "output_type": "execute_result"
    }
   ],
   "source": [
    "print(size(lipidlist))\n",
    "print(names(lipidlist))\n",
    "head(lipidlist)"
   ]
  },
  {
   "cell_type": "markdown",
   "metadata": {},
   "source": [
    "From Skyline: \"At a minimum, Skyline needs to know the charge state and either the ion formula or m/z for each\n",
    "precursor and product. If no product ion information is present, it is assumed to be a list of precursor \n",
    "2 targets. Repeated precursor information with different product information is assumed to indicate\n",
    "multiple transitions of a single precursor, just as with peptides\"\n",
    "\n",
    "From the small molecule tutorial in Skyline we have an example transition list in SMTutorial_TransitionList.csv "
   ]
  },
  {
   "cell_type": "code",
   "execution_count": 3,
   "metadata": {},
   "outputs": [
    {
     "data": {
      "text/html": [
       "<table class=\"data-frame\"><thead><tr><th></th><th>Molecule_List_Name</th><th>Precursor_Name</th><th>Precursor_Formula</th><th>Precursor_Charge</th><th>Precursor_RT</th><th>Precursor_CE</th><th>Product_m_z</th><th>Product_Charge</th></tr></thead><tbody><tr><th>1</th><td>Amino Acid</td><td>Methionine</td><td>C5H12NO2S</td><td>1</td><td>2.5</td><td>15</td><td>104.07</td><td>1</td></tr><tr><th>2</th><td>Amino Acid</td><td>d3-Methionine</td><td>C5H9H'3NO2S</td><td>1</td><td>2.5</td><td>15</td><td>107.09</td><td>1</td></tr><tr><th>3</th><td>Amino Acid</td><td>Isoleucine</td><td>C6H14NO2</td><td>1</td><td>3.05</td><td>15</td><td>86.096</td><td>1</td></tr><tr><th>4</th><td>Amino Acid</td><td>Leucine</td><td>C6H14NO2</td><td>1</td><td>3.13</td><td>15</td><td>86.096</td><td>1</td></tr><tr><th>5</th><td>Amino Acid</td><td>d3-leucine</td><td>C6H11H'3NO2</td><td>1</td><td>3.13</td><td>15</td><td>89.1</td><td>1</td></tr><tr><th>6</th><td>Amino Acid</td><td>Phenylalanine</td><td>C9H12NO2</td><td>1</td><td>3.27</td><td>15</td><td>120.08</td><td>1</td></tr></tbody></table>"
      ],
      "text/plain": [
       "6×8 DataFrames.DataFrame\n",
       "│ Row │ Molecule_List_Name │ Precursor_Name  │ Precursor_Formula │\n",
       "├─────┼────────────────────┼─────────────────┼───────────────────┤\n",
       "│ 1   │ \"Amino Acid\"       │ \"Methionine\"    │ \"C5H12NO2S\"       │\n",
       "│ 2   │ \"Amino Acid\"       │ \"d3-Methionine\" │ \"C5H9H'3NO2S\"     │\n",
       "│ 3   │ \"Amino Acid\"       │ \"Isoleucine\"    │ \"C6H14NO2\"        │\n",
       "│ 4   │ \"Amino Acid\"       │ \"Leucine\"       │ \"C6H14NO2\"        │\n",
       "│ 5   │ \"Amino Acid\"       │ \"d3-leucine\"    │ \"C6H11H'3NO2\"     │\n",
       "│ 6   │ \"Amino Acid\"       │ \"Phenylalanine\" │ \"C9H12NO2\"        │\n",
       "\n",
       "│ Row │ Precursor_Charge │ Precursor_RT │ Precursor_CE │ Product_m_z │\n",
       "├─────┼──────────────────┼──────────────┼──────────────┼─────────────┤\n",
       "│ 1   │ 1                │ 2.5          │ 15           │ 104.07      │\n",
       "│ 2   │ 1                │ 2.5          │ 15           │ 107.09      │\n",
       "│ 3   │ 1                │ 3.05         │ 15           │ 86.096      │\n",
       "│ 4   │ 1                │ 3.13         │ 15           │ 86.096      │\n",
       "│ 5   │ 1                │ 3.13         │ 15           │ 89.1        │\n",
       "│ 6   │ 1                │ 3.27         │ 15           │ 120.08      │\n",
       "\n",
       "│ Row │ Product_Charge │\n",
       "├─────┼────────────────┤\n",
       "│ 1   │ 1              │\n",
       "│ 2   │ 1              │\n",
       "│ 3   │ 1              │\n",
       "│ 4   │ 1              │\n",
       "│ 5   │ 1              │\n",
       "│ 6   │ 1              │"
      ]
     },
     "execution_count": 3,
     "metadata": {},
     "output_type": "execute_result"
    }
   ],
   "source": [
    "skyline_example = readtable(\"SMTutorial_TransitionList.csv\")\n",
    "head(skyline_example)"
   ]
  },
  {
   "cell_type": "markdown",
   "metadata": {},
   "source": [
    "So lets create a data table with the correct information in it for our LipidList"
   ]
  },
  {
   "cell_type": "code",
   "execution_count": 4,
   "metadata": {},
   "outputs": [
    {
     "data": {
      "text/html": [
       "<table class=\"data-frame\"><thead><tr><th></th><th>Molecule_List_Name</th><th>Precursor_Name</th><th>Precursor_Charge</th><th>Precursor_m_z</th></tr></thead><tbody><tr><th>1</th><td>Lipid</td><td>Palmitamide**IS</td><td>1</td><td>256.2628</td></tr><tr><th>2</th><td>Lipid</td><td>cholesterol-loss of OH2</td><td>1</td><td>367.3359</td></tr><tr><th>3</th><td>Lipid</td><td>cholesterol-loss of OH</td><td>1</td><td>369.3514</td></tr><tr><th>4</th><td>Lipid</td><td>Cer(22:0)</td><td>1</td><td>372.3473</td></tr><tr><th>5</th><td>Lipid</td><td>LysoPC-P(10:0)</td><td>1</td><td>396.2515</td></tr><tr><th>6</th><td>Lipid</td><td>LysoPC-O(10:0)</td><td>1</td><td>398.2672</td></tr></tbody></table>"
      ],
      "text/plain": [
       "6×4 DataFrames.DataFrame\n",
       "│ Row │ Molecule_List_Name │ Precursor_Name            │ Precursor_Charge │\n",
       "├─────┼────────────────────┼───────────────────────────┼──────────────────┤\n",
       "│ 1   │ \"Lipid\"            │ \"Palmitamide**IS\"         │ 1                │\n",
       "│ 2   │ \"Lipid\"            │ \"cholesterol-loss of OH2\" │ 1                │\n",
       "│ 3   │ \"Lipid\"            │ \"cholesterol-loss of OH\"  │ 1                │\n",
       "│ 4   │ \"Lipid\"            │ \"Cer(22:0)\"               │ 1                │\n",
       "│ 5   │ \"Lipid\"            │ \"LysoPC-P(10:0)\"          │ 1                │\n",
       "│ 6   │ \"Lipid\"            │ \"LysoPC-O(10:0)\"          │ 1                │\n",
       "\n",
       "│ Row │ Precursor_m_z │\n",
       "├─────┼───────────────┤\n",
       "│ 1   │ 256.263       │\n",
       "│ 2   │ 367.336       │\n",
       "│ 3   │ 369.351       │\n",
       "│ 4   │ 372.347       │\n",
       "│ 5   │ 396.252       │\n",
       "│ 6   │ 398.267       │"
      ]
     },
     "execution_count": 4,
     "metadata": {},
     "output_type": "execute_result"
    }
   ],
   "source": [
    "lipidlist[:Molecule_List_Name] = @data(repmat([\"Lipid\"],size(lipidlist)[1]));\n",
    "lipidlist[:Precursor_Charge] = @data(repmat([1],size(lipidlist)[1]));\n",
    "rename!(lipidlist, :name, :Precursor_Name);\n",
    "rename!(lipidlist, :mz, :Precursor_m_z);\n",
    "lipidlist = lipidlist[[3,2,4,1]] # reorder columns\n",
    "head(lipidlist)"
   ]
  },
  {
   "cell_type": "markdown",
   "metadata": {},
   "source": [
    "Write to .csv"
   ]
  },
  {
   "cell_type": "code",
   "execution_count": 5,
   "metadata": {
    "collapsed": true
   },
   "outputs": [],
   "source": [
    "writetable(\"LipidList_skyline.csv\", lipidlist)"
   ]
  }
 ],
 "metadata": {
  "kernelspec": {
   "display_name": "Julia 0.4.5",
   "language": "julia",
   "name": "julia-0.4"
  },
  "language_info": {
   "file_extension": ".jl",
   "mimetype": "application/julia",
   "name": "julia",
   "version": "0.4.5"
  }
 },
 "nbformat": 4,
 "nbformat_minor": 2
}
