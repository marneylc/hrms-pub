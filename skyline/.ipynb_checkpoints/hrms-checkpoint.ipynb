{
 "cells": [
  {
   "cell_type": "markdown",
   "metadata": {
    "collapsed": true
   },
   "source": [
    "## Skyline implementation of hrms.R\n",
    "\n",
    "I've organized some R code with a jupyter notebook so that we can push this around to different mark up languages that will hopefully make it easier to port this to C#. Not sure if we care, but the shebang used in the original script is... \"#!/usr/bin/env Rscript\". Also, the figure and explanation of this code is currently in a paper up for review.\n",
    "\n",
    "\"An unbiased lipid phenotyping approach to study the genetic determinants and mechanisms of coronary heart disease risk factors.\"\n",
    "\n",
    "Eric L. Harshfield *, Albert Koulman *, Daniel Ziemek, Luke Marney, Eric Fauman, Dirk\n",
    "S. Paul, David Stacey, John Danesh, Danish Saleheen, Adam S. Butterworth, Angela M.\n",
    "Wood, Julian L. Griffin\n",
    "\n",
    "Figure 1. Schematic of the peak-picking process\n",
    "<img src=\"Peak-picking_figure_120517.png\">\n",
    "(a) XCMS was used to average 50 spectra in positive and negative ionization modes,\n",
    "yielding (b) the average mass spectrum for that particular polarity, for which signals were\n",
    "obtained using a peak-picking algorithm that determined the (c) peak signal at the\n",
    "midpoint of a line drawn at half-height for peaks near signals that corresponded to known\n",
    "lipids. Signals and deviations from known lipids were then (d) combined in a database,\n",
    "and separated into separate files for (e) signals and (f) deviations for each lipid."
   ]
  },
  {
   "cell_type": "markdown",
   "metadata": {},
   "source": []
  },
  {
   "cell_type": "markdown",
   "metadata": {},
   "source": [
    "## Detailed Description of Code\n",
    "---\n",
    "The targeted transition list must be in active directory and called LipidList.csv\n",
    "\n",
    "We also need to know a little about the direct infusion method. The data we are looking at here is from\n",
    "an Advion NanoMate infusion of a Thermo Exactive Orbitrap. \n",
    "The exact method details can be found here: https://doi.org/10.1186/s13073-015-0179-6\n",
    "\n",
    "Essentially the spray stabalizes by 20 seconds and holds in positive ionization mode until 70 seconds.\n",
    "It is then switched to negative ion mode and collects data for another minute. \n",
    "The usefull mass range is from 200 m/z to 1000 m/z.\n",
    "\n",
    "Programatically I define the following:\n",
    "\n",
    "**rtwin** = retention time window for infusion, in this case from seconds 20 - 70\n",
    "\n",
    "**mzwin** = mass spectral window, from m/z 200 - 1000\n",
    "\n",
    "**lipidlist** = A csv file with two columns, accurate mass | name"
   ]
  },
  {
   "cell_type": "code",
   "execution_count": null,
   "metadata": {
    "collapsed": true
   },
   "outputs": [],
   "source": [
    "rtwin <- c(20,70)\n",
    "mzwin <- c(200,1000)\n",
    "lipidlist <- \"./LipidList.csv\""
   ]
  },
  {
   "cell_type": "code",
   "execution_count": null,
   "metadata": {
    "collapsed": true
   },
   "outputs": [],
   "source": [
    "source(\"hrms.R\")\n",
    "main(filename,lipidlist,rtwin=c(20,70),mzwin=c(200,1000)) \n",
    "# where rtwin is the retention time window in sec and mzwin is the mzwindow in m/z units\n",
    "# lipidlist is the name of the csv file of mz and name pairs"
   ]
  },
  {
   "cell_type": "markdown",
   "metadata": {},
   "source": [
    "If you want to run this for all data files in a directory run the following command after getting\n",
    "the name of all files into the list variable \"files\""
   ]
  },
  {
   "cell_type": "code",
   "execution_count": null,
   "metadata": {
    "collapsed": true
   },
   "outputs": [],
   "source": [
    "system.time( \n",
    "for (i in 1:length(files)) { \n",
    "    main(files[i],lipidlist,rtwin=c(20,70),mzwin=c(200,1000))\n",
    "}\n",
    ")\n",
    "results <- signals_deviations() "
   ]
  },
  {
   "cell_type": "markdown",
   "metadata": {
    "collapsed": true
   },
   "source": [
    "This last line will produce the csv files signals and deviations which puts multiple files data together into two csv files plus returns the data.frames in the list \"results\""
   ]
  },
  {
   "cell_type": "markdown",
   "metadata": {},
   "source": []
  },
  {
   "cell_type": "markdown",
   "metadata": {},
   "source": [
    "## Function Definitions\n",
    "---\n",
    "Below are the function definitions that we should be able to rewrite in C#. Or maybe it would be good to take this opportunity to rethink the organization. For sure some of them could use some editing for readablitiy, I'll do this soon-ish."
   ]
  },
  {
   "cell_type": "markdown",
   "metadata": {},
   "source": [
    "### main(filename,lipidlist,rtwin,mzwin)"
   ]
  },
  {
   "cell_type": "code",
   "execution_count": null,
   "metadata": {
    "collapsed": true
   },
   "outputs": [],
   "source": [
    "main <- function(filename,lipidlist,rtwin,mzwin) {\n",
    "  require(xcms)\n",
    "  require(data.table)\n",
    "  targets <- read.table(lipidlist, header=T, sep=',')\n",
    "  targets <- data.table(targets)\n",
    "  options(\"nwarnings\" = (length(targets$mz)+50)) # we need to get at least as many warnings as targets\n",
    "  spectrum <- getspectra(filename=filename, rt=rtwin, mz=mzwin)\n",
    "  tgts <- peaktable(targets,spectrum)\n",
    "  write.csv(tgts, file = gsub(pattern=\".mzXML\", x=filename, replacement=\".csv\"), row.names=F)\n",
    "  gc() \n",
    "\n",
    "# writing warnings to a text file isn't working very well, but would be helpful to visit later\n",
    "#   txtFile <- file(\"warnings.txt\", \"w\") # open and write warnings to a file called warnings.txt\n",
    "#   warns <- warnings()\n",
    "#   for (i in 1:length(warns)) {writeLines(text=as.character(str(warns[i]),list.len=1),con=txtFile, sep=\"\\n\")}\n",
    "# \n",
    "#   return warns\n",
    "  #return(tgts) # this is bugy, doesnt return the correct structure for looping function, need to figure out\n",
    "  # but csv mode works\n",
    "}"
   ]
  },
  {
   "cell_type": "markdown",
   "metadata": {},
   "source": [
    "### signals_deviations()\n",
    "This function is used after main() has been run in a loop of multiple\n",
    "filenames/spectra. It reads the multiple .csv's in a directory and\n",
    "creates the .csv files signals.csv and deviations.csv which have\n",
    "rownames of target metabolite and column names as the filename\n",
    "It's output is .csv files, so there are no arguments needed. The\n",
    "active directory must be set to the directory of the csv files created by main()\n",
    "\n",
    "The csv files must be in the active directory."
   ]
  },
  {
   "cell_type": "code",
   "execution_count": null,
   "metadata": {
    "collapsed": true
   },
   "outputs": [],
   "source": [
    "signals_deviations <- function() {\n",
    "  x <- read.csv(gsub(pattern=\".mzXML\", x=files[1], replacement=\".csv\"),header=T)\n",
    "  targets <- read.table(\"./LipidList.csv\" , header=T, sep=',')\n",
    "  targets <- data.table(targets)\n",
    "  signals <- data.frame(x$targets.name,targets$mz)\n",
    "  for (i in 1:length(files)) {\n",
    "    x <- read.csv(gsub(pattern=\".mzXML\", x=files[i], replacement=\".csv\"),header=T)\n",
    "    signals[files[i]] <- data.frame(x$signal)\n",
    "  }\n",
    "  \n",
    "  x <- read.csv(gsub(pattern=\".mzXML\", x=files[1], replacement=\".csv\"),header=T)\n",
    "  deviations <- data.frame(x$targets.name,targets$mz)\n",
    "  for (i in 1:length(files)) {\n",
    "    x <- read.csv(gsub(pattern=\".mzXML\", x=files[i], replacement=\".csv\"),header=T)\n",
    "    deviations[files[i]] <- data.frame(x$mz_deviation)\n",
    "  }\n",
    "  results <- list(signals,deviations)\n",
    "  write.csv(results[[1]],file=\"signals.csv\", row.names=F)\n",
    "  write.csv(results[[2]],file=\"deviations.csv\", row.names=F)\n",
    "  return(results)\n",
    "}"
   ]
  },
  {
   "cell_type": "markdown",
   "metadata": {},
   "source": [
    "### getspectra(filename,rt,mz)\n",
    "This function uses xcms to get the average spectra for a sample\n",
    "and cleans up the spectra by rounding the ms data to 4 decimal places\n",
    "as well as removing NA values. The function has three arguments, a file name\n",
    "the retention time window that data will be averaged from\n",
    "the direct infusion of sample and the mass spectral range that is desired.\n",
    "common values are: rt <- c(0,60) and mz <- c(200,1800)"
   ]
  },
  {
   "cell_type": "code",
   "execution_count": null,
   "metadata": {
    "collapsed": true
   },
   "outputs": [],
   "source": [
    "getspectra <- function(filename,rt,mz) {\n",
    "  spectra <- list()\n",
    "  spectrum <- getSpec(xcmsRaw(filename), rtrange=rt, mzrange=mz)\n",
    "  spectrum[,\"mz\"] <- round(spectrum[,\"mz\"], digits=4)\n",
    "  spectrum <- as.data.table(spectrum)\n",
    "  spectrum <- spectrum[,mean(intensity), by=mz]\n",
    "  spectrum <- na.omit(spectrum)\n",
    "  setkey(spectrum,mz)\n",
    "  return(spectrum)\n",
    "}"
   ]
  },
  {
   "cell_type": "markdown",
   "metadata": {},
   "source": [
    "### peaktable(targets,spectra)\n",
    "This function calls the peakfinding algorithm in a loop\n",
    "finding the closest peak maximum m/z and intensity values\n",
    "appending results to variables signals and nearest_mz.\n",
    "It returns the data.frame peak_id which includes all\n",
    "results from the targeted analysis of the current spectra"
   ]
  },
  {
   "cell_type": "code",
   "execution_count": null,
   "metadata": {
    "collapsed": true
   },
   "outputs": [],
   "source": [
    "peaktable <- function(targets,spectra) {\n",
    "  nearest_mz <- vector(length=length(targets$mz)) #predefine length later\n",
    "  signal <- vector(length=length(targets$mz)) #predefine length later\n",
    "  for (i in 1:length(targets$mz)) {\n",
    "    target <- targets[i,mz]\n",
    "    peak <- peakfind_midpoint(target,spectra,0.01,warnings)\n",
    "    nearest_mz[i]<-peak[1,mz]\n",
    "    signal[i]<-peak[1,V1]\n",
    "  }\n",
    "  \n",
    "  mz_deviation <- targets[,mz] - nearest_mz\n",
    "  peak_id <- data.frame(targets$name,targets$mz,nearest_mz,mz_deviation,signal)\n",
    "  return(peak_id)\n",
    "}"
   ]
  },
  {
   "cell_type": "markdown",
   "metadata": {},
   "source": [
    "### peakfind_midpoint(target,spectra,hwidth,warnings)\n",
    "This is a refined peak finder that calculates the midpoint between a line drawn at the half height. This\n",
    "will give closer m/z values, but does not correct any small errors in intensity calculations from the\n",
    "peak max finder. Used in main() as of 28/01/2014. -Luke Marney\n",
    "\n",
    "It also could use some cleanup, which I will do soon. It is not very readable."
   ]
  },
  {
   "cell_type": "code",
   "execution_count": null,
   "metadata": {
    "collapsed": true
   },
   "outputs": [],
   "source": [
    "peakfind_midpoint <- function(target,spectra,hwidth,warnings) {\n",
    "  window <- subset(spectra, spectra$mz > target-hwidth & spectra$mz < target+hwidth)\n",
    "  if (nrow(window)==0) { # no data for target?\n",
    "    peak = data.table('mz'=target,'V1'=0) # enter zero intensity for target mass\n",
    "  } else if (sum(window$V1) < 5000) { # very low s/n?\n",
    "    peak <- peakfind_max(target,spectra,hwidth) # uses older peakmax finder for low s/n peaks, while less accurate this helps with exception handling dramatically\n",
    "    warning(paste(\"low signal/noise found for target mass-\", target, \"-using older peakmax finder. Identification may not be accurate\", sep=\" \"))\n",
    "  } else { # now we run the peak width peak finder\n",
    "    ## at this point we need to readjust window first to the maximum found with peakfind_max(). ##\n",
    "    ## This centers the peak better in a window, so that the entire peak ##\n",
    "    ## is sampled for width at half height calculations. The rest of this function does this ##\n",
    "    ## as well as the actual width at half height calculations.##\n",
    "    peak <- peakfind_max(target,spectra,hwidth)\n",
    "    hh_close=peak[1,V1]/2\n",
    "    window <- subset(spectra, spectra$mz > peak$mz-hwidth & spectra$mz < peak$mz+hwidth)\n",
    "    if (window$V1[length(window$mz)] > hh_close | window$V1[1] > hh_close) { # window doesn't sample the width of the peak?\n",
    "      setkey(window,V1) #this will sort table by intensity, thus finding peak maximum as last entry in table\n",
    "      peak <- window[length(window$mz)] #get last entry of table for the peak maximum\n",
    "      window <- subset(spectra, spectra$mz > peak$mz-hwidth & spectra$mz < peak$mz+hwidth)\n",
    "      setkey(window,mz)\n",
    "      if (window$V1[length(window$mz)] > hh_close | window$V1[1] > hh_close) { # is the bad sampling of peak due to interference?\n",
    "        setkey(window,V1) #this will sort table by intensity, thus finding peak maximum as last entry in table\n",
    "        peak <- window[length(window$mz)] #get last entry of table for the peak maximum\n",
    "        warning((paste(\"interfered peak detected for target mass-\", target, \"-older peak_max() function used\", sep=\" \")))\n",
    "      }\n",
    "    } else {\n",
    "      ## for resolved peaks (at half height) the follow code is run ##\n",
    "      setkey(window,V1) #this will sort table by intensity, thus finding peak maximum as last entry in table\n",
    "      peak <- window[length(window$mz)] #get last entry of table for the peak maximum\n",
    "      hh=peak[1,V1]/2\n",
    "      nearmz=peak[1,mz]\n",
    "      ### separate left and right side of peak\n",
    "      left <- window[window[,mz] <= peak$mz]\n",
    "      right <- window[window[,mz] >= peak$mz]\n",
    "      left_one <- left[left[,V1] <= hh]; left_one <- left_one[length(left_one[,mz])] # closest point below hh needs to index last entry in table\n",
    "      left_two <- left[left[,V1] >= hh][1] # can do an index of 1, because it is sorted by intensity\n",
    "      right_one <- right[right[,V1] >= hh][1] # can do an index of 1, because it is sorted by intensity\n",
    "      right_two <- right[right[,V1] <= hh]; right_two <- right_two[length(right_two[,mz])] # closest point below hh needs to index last entry in table\n",
    "      if (left_two[,mz] == right_one[,mz]) {warning(paste(\"Same point seen for left and right side of\", target, \". Possible undersampled peaks?\")) }\n",
    "      ### organize data into a data frame (called midpoints) for easier handling\n",
    "      left_mzs <- c(left_one[,mz],left_two[,mz])\n",
    "      left_int <- c(left_one[,V1],left_two[,V1])\n",
    "      right_mzs <- c(right_one[,mz],right_two[,mz])\n",
    "      right_int <- c(right_one[,V1],right_two[,V1])\n",
    "      midpoints <- data.frame(left_mzs,left_int,right_mzs,right_int)\n",
    "      ### there has got to be a way to combine the last five rows into one row\n",
    "      coordinates <- list()\n",
    "      left <- coefficients(lm(left_int ~ left_mzs, data=midpoints))\n",
    "      right <- coefficients(lm(right_int ~ right_mzs, data=midpoints))\n",
    "      midpoint <- ((hh-left[1])/left[2]+(hh-right[1])/right[2])/2 # midpoint between the intersection points of both lines from a y=hh flat line\n",
    "      peak$mz <- round(midpoint[1], digits=4) # modify the peaks variable with the new more accurate m/z value\n",
    "    }\n",
    "  }\n",
    "  return(peak)\n",
    "}"
   ]
  },
  {
   "cell_type": "markdown",
   "metadata": {},
   "source": [
    "This is a little boilerplate to edit when scripting the Rscript to run. This is how I pushed the jobs to multiple cores easily. Probably could do this way better in something like Go, or use native R functionality. Maybe you guys have some ideas for it's C# implementation? Being able to process 24 sample files at once was the reason why I wrote this code as we had to get through thousands of spectra quickly."
   ]
  },
  {
   "cell_type": "code",
   "execution_count": null,
   "metadata": {
    "collapsed": true
   },
   "outputs": [],
   "source": [
    "if(!interactive()){\n",
    "  args <- commandArgs(trailingOnly = TRUE)\n",
    "  f <- args[1]\n",
    "  lipidlist <- args[2]\n",
    "  main(f,lipidlist,rtwin=c(20,70),mzwin=c(200,1000))\n",
    "}"
   ]
  },
  {
   "cell_type": "markdown",
   "metadata": {},
   "source": [
    "## Not used\n",
    "#### peakfind_max(target,spectra,hwidth)\n",
    "This function is the simplest peak finder.\n",
    "It finds the maximum intensity in a defined\n",
    "window around the target m/z. Not used in\n",
    "main() as of 28/01/2014. -Luke Marney"
   ]
  },
  {
   "cell_type": "code",
   "execution_count": null,
   "metadata": {
    "collapsed": true
   },
   "outputs": [],
   "source": [
    "peakfind_max <- function(target,spectra,hwidth) {\n",
    "  window <- subset(spectra, spectra$mz > target-hwidth & spectra$mz < target+hwidth)\n",
    "  setkey(window,V1) #this will sort table by intensity, thus finding peak maximum as last entry in table\n",
    "  peak <- window[length(window$mz)] #get last entry of table for the peak maximum\n",
    "  #plot(window, type='h', lwd=1)\n",
    "  return(peak) \n",
    "}"
   ]
  }
 ],
 "metadata": {
  "kernelspec": {
   "display_name": "R",
   "language": "R",
   "name": "ir"
  },
  "language_info": {
   "codemirror_mode": "r",
   "file_extension": ".r",
   "mimetype": "text/x-r-source",
   "name": "R",
   "pygments_lexer": "r",
   "version": "3.2.3"
  }
 },
 "nbformat": 4,
 "nbformat_minor": 2
}
